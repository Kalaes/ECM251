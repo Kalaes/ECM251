{
  "nbformat": 4,
  "nbformat_minor": 0,
  "metadata": {
    "colab": {
      "provenance": [],
      "collapsed_sections": [
        "0jfECJ3SbyIt",
        "gyYcrD-odFd0",
        "ykR3rxSmhmGR",
        "buc09hJ1iZXX",
        "mugH1qd9jqnO",
        "ibUymhXNl2tV"
      ],
      "include_colab_link": true
    },
    "kernelspec": {
      "name": "python3",
      "display_name": "Python 3"
    },
    "language_info": {
      "name": "python"
    }
  },
  "cells": [
    {
      "cell_type": "markdown",
      "metadata": {
        "id": "view-in-github",
        "colab_type": "text"
      },
      "source": [
        "<a href=\"https://colab.research.google.com/github/Kalaes/ECM251/blob/main/C%C3%B3pia_de_P1.ipynb\" target=\"_parent\"><img src=\"https://colab.research.google.com/assets/colab-badge.svg\" alt=\"Open In Colab\"/></a>"
      ]
    },
    {
      "cell_type": "markdown",
      "metadata": {
        "id": "80CF3Eq9EXDW"
      },
      "source": [
        "<head>\n",
        "  <meta name=\"author\" content=\"Rogério de Oliveira\">\n",
        "  <meta institution=\"author\" content=\"ITM\">\n",
        "</head>\n",
        "\n",
        "<img src=\"https://maua.br/images/selo-60-anos-maua.svg\" width=300, align=\"right\">\n",
        "<!-- <h1 align=left><font size = 6, style=\"color:rgb(200,0,0)\"> optional title </font></h1> -->\n"
      ]
    },
    {
      "cell_type": "markdown",
      "source": [
        "# **Avaliação P1**\n",
        "\n",
        "Empregue este notebook para fazer os códigos da sua avalição e não deixe de postar na tarefa correspondente. A entrega do notebook é obrigatória."
      ],
      "metadata": {
        "id": "V61pOKUCXl0B"
      }
    },
    {
      "cell_type": "code",
      "metadata": {
        "id": "rYx9D4GZA5o9"
      },
      "source": [
        "#@markdown Informe **\\<Matrícula, Nome\\>** como abaixo:\n",
        "Aluno = '18020119,Raphael Gueleri Kalaes' #@param {type:\"string\"}\n",
        "\n",
        "\n"
      ],
      "execution_count": 1,
      "outputs": []
    },
    {
      "cell_type": "markdown",
      "source": [
        "# **Imports e Path**\n",
        "\n",
        "Empregue os `imports` e o `path` abaixo para acessar os arquivos solicitados na sua avaliação. Para acessar um arquivo referenciado no Moodl você poderá fazer:\n",
        "\n",
        "```\n",
        "df = pd.read_csv(path + 'arquivo_nome_do_arquivo')\n",
        "```"
      ],
      "metadata": {
        "id": "CjE1a9haZveN"
      }
    },
    {
      "cell_type": "code",
      "source": [
        "import numpy as np\n",
        "import pandas as pd\n",
        "import matplotlib.pyplot as plt\n",
        "%matplotlib inline\n",
        "import seaborn as sns\n",
        "\n",
        "path = 'https://github.com/Rogerio-mack/work/raw/main/P1/'"
      ],
      "metadata": {
        "id": "oiXYMYIMLG-I"
      },
      "execution_count": 2,
      "outputs": []
    },
    {
      "cell_type": "markdown",
      "source": [
        "# **Bases de Dados Empregadas**\n",
        "\n"
      ],
      "metadata": {
        "id": "JFreVLnkpETr"
      }
    },
    {
      "cell_type": "markdown",
      "source": [
        "## `df_blood_<` $n$ `>.csv`, $n=1,2,3$"
      ],
      "metadata": {
        "id": "o5s0VF9pqJq0"
      }
    },
    {
      "cell_type": "code",
      "source": [
        "df = pd.read_csv(path + 'df_blood_1.csv')\n",
        "df.head(5)"
      ],
      "metadata": {
        "colab": {
          "base_uri": "https://localhost:8080/",
          "height": 421
        },
        "id": "GbUzRoV4pc3Z",
        "outputId": "187915fa-fb2e-4812-9817-0513d1cac9e7"
      },
      "execution_count": 35,
      "outputs": [
        {
          "output_type": "execute_result",
          "data": {
            "text/plain": [
              "   record               name          cpf  \\\n",
              "0   98539      Miguel Campos  51832697428   \n",
              "1   77708         Cauã Sales  24738519050   \n",
              "2    5192  Lorena Nascimento  76184293591   \n",
              "3   98047     Caio Rodrigues  94712036516   \n",
              "4   50057   João Pedro Pinto  92731850612   \n",
              "\n",
              "                                             address    birthday  Gluconise  \\\n",
              "0  Residencial Maysa Sales, 927\\nFuncionários\\n54...  2011-10-05  1324.8691   \n",
              "1  Vila Duarte\\nVila Antena\\n47878550 Nascimento ...  2003-02-06   877.6487   \n",
              "2  Estrada Sales, 484\\nVila Santa Monica 1ª Seção...  2020-02-01   894.3656   \n",
              "3  Recanto de da Rosa, 11\\nBrasil Industrial\\n982...  2017-05-12   785.4063   \n",
              "4  Favela de Ribeiro, 14\\nIndependência\\n22878-00...  2003-07-07  1173.0815   \n",
              "\n",
              "     H2B4    H356  HB_A56  Adrino_posina  ...      H278  Positron_L  Plate  \\\n",
              "0  181.22  331.22   98.73  Clinical Done  ...   5418.56     27.8961    NaN   \n",
              "1   69.41  219.41   98.73      Uncovered  ...  12763.75     35.2413      X   \n",
              "2   73.59  223.59  129.97       Capsuled  ...     23.64     22.5011      B   \n",
              "3   46.35  196.35   98.73      Uncovered  ...   3622.63     26.1001     CS   \n",
              "4  143.27  293.27   98.73  Clinical Done  ...   1609.60     24.0871      X   \n",
              "\n",
              "   Factor_risk norm_gamma_type  Blood_type  Blood_Rh Low_Risk Medium_Risk  \\\n",
              "0            5               1          AB         -     True       False   \n",
              "1            6               0           B         +     True       False   \n",
              "2            0               0           A         +    False        True   \n",
              "3            4               1         NaN         +     True       False   \n",
              "4            3               0           O         +     True       False   \n",
              "\n",
              "   High_Risk  \n",
              "0      False  \n",
              "1      False  \n",
              "2      False  \n",
              "3      False  \n",
              "4      False  \n",
              "\n",
              "[5 rows x 22 columns]"
            ],
            "text/html": [
              "\n",
              "  <div id=\"df-b62b2cae-6db1-4230-b3d2-b8b99d3201ad\">\n",
              "    <div class=\"colab-df-container\">\n",
              "      <div>\n",
              "<style scoped>\n",
              "    .dataframe tbody tr th:only-of-type {\n",
              "        vertical-align: middle;\n",
              "    }\n",
              "\n",
              "    .dataframe tbody tr th {\n",
              "        vertical-align: top;\n",
              "    }\n",
              "\n",
              "    .dataframe thead th {\n",
              "        text-align: right;\n",
              "    }\n",
              "</style>\n",
              "<table border=\"1\" class=\"dataframe\">\n",
              "  <thead>\n",
              "    <tr style=\"text-align: right;\">\n",
              "      <th></th>\n",
              "      <th>record</th>\n",
              "      <th>name</th>\n",
              "      <th>cpf</th>\n",
              "      <th>address</th>\n",
              "      <th>birthday</th>\n",
              "      <th>Gluconise</th>\n",
              "      <th>H2B4</th>\n",
              "      <th>H356</th>\n",
              "      <th>HB_A56</th>\n",
              "      <th>Adrino_posina</th>\n",
              "      <th>...</th>\n",
              "      <th>H278</th>\n",
              "      <th>Positron_L</th>\n",
              "      <th>Plate</th>\n",
              "      <th>Factor_risk</th>\n",
              "      <th>norm_gamma_type</th>\n",
              "      <th>Blood_type</th>\n",
              "      <th>Blood_Rh</th>\n",
              "      <th>Low_Risk</th>\n",
              "      <th>Medium_Risk</th>\n",
              "      <th>High_Risk</th>\n",
              "    </tr>\n",
              "  </thead>\n",
              "  <tbody>\n",
              "    <tr>\n",
              "      <th>0</th>\n",
              "      <td>98539</td>\n",
              "      <td>Miguel Campos</td>\n",
              "      <td>51832697428</td>\n",
              "      <td>Residencial Maysa Sales, 927\\nFuncionários\\n54...</td>\n",
              "      <td>2011-10-05</td>\n",
              "      <td>1324.8691</td>\n",
              "      <td>181.22</td>\n",
              "      <td>331.22</td>\n",
              "      <td>98.73</td>\n",
              "      <td>Clinical Done</td>\n",
              "      <td>...</td>\n",
              "      <td>5418.56</td>\n",
              "      <td>27.8961</td>\n",
              "      <td>NaN</td>\n",
              "      <td>5</td>\n",
              "      <td>1</td>\n",
              "      <td>AB</td>\n",
              "      <td>-</td>\n",
              "      <td>True</td>\n",
              "      <td>False</td>\n",
              "      <td>False</td>\n",
              "    </tr>\n",
              "    <tr>\n",
              "      <th>1</th>\n",
              "      <td>77708</td>\n",
              "      <td>Cauã Sales</td>\n",
              "      <td>24738519050</td>\n",
              "      <td>Vila Duarte\\nVila Antena\\n47878550 Nascimento ...</td>\n",
              "      <td>2003-02-06</td>\n",
              "      <td>877.6487</td>\n",
              "      <td>69.41</td>\n",
              "      <td>219.41</td>\n",
              "      <td>98.73</td>\n",
              "      <td>Uncovered</td>\n",
              "      <td>...</td>\n",
              "      <td>12763.75</td>\n",
              "      <td>35.2413</td>\n",
              "      <td>X</td>\n",
              "      <td>6</td>\n",
              "      <td>0</td>\n",
              "      <td>B</td>\n",
              "      <td>+</td>\n",
              "      <td>True</td>\n",
              "      <td>False</td>\n",
              "      <td>False</td>\n",
              "    </tr>\n",
              "    <tr>\n",
              "      <th>2</th>\n",
              "      <td>5192</td>\n",
              "      <td>Lorena Nascimento</td>\n",
              "      <td>76184293591</td>\n",
              "      <td>Estrada Sales, 484\\nVila Santa Monica 1ª Seção...</td>\n",
              "      <td>2020-02-01</td>\n",
              "      <td>894.3656</td>\n",
              "      <td>73.59</td>\n",
              "      <td>223.59</td>\n",
              "      <td>129.97</td>\n",
              "      <td>Capsuled</td>\n",
              "      <td>...</td>\n",
              "      <td>23.64</td>\n",
              "      <td>22.5011</td>\n",
              "      <td>B</td>\n",
              "      <td>0</td>\n",
              "      <td>0</td>\n",
              "      <td>A</td>\n",
              "      <td>+</td>\n",
              "      <td>False</td>\n",
              "      <td>True</td>\n",
              "      <td>False</td>\n",
              "    </tr>\n",
              "    <tr>\n",
              "      <th>3</th>\n",
              "      <td>98047</td>\n",
              "      <td>Caio Rodrigues</td>\n",
              "      <td>94712036516</td>\n",
              "      <td>Recanto de da Rosa, 11\\nBrasil Industrial\\n982...</td>\n",
              "      <td>2017-05-12</td>\n",
              "      <td>785.4063</td>\n",
              "      <td>46.35</td>\n",
              "      <td>196.35</td>\n",
              "      <td>98.73</td>\n",
              "      <td>Uncovered</td>\n",
              "      <td>...</td>\n",
              "      <td>3622.63</td>\n",
              "      <td>26.1001</td>\n",
              "      <td>CS</td>\n",
              "      <td>4</td>\n",
              "      <td>1</td>\n",
              "      <td>NaN</td>\n",
              "      <td>+</td>\n",
              "      <td>True</td>\n",
              "      <td>False</td>\n",
              "      <td>False</td>\n",
              "    </tr>\n",
              "    <tr>\n",
              "      <th>4</th>\n",
              "      <td>50057</td>\n",
              "      <td>João Pedro Pinto</td>\n",
              "      <td>92731850612</td>\n",
              "      <td>Favela de Ribeiro, 14\\nIndependência\\n22878-00...</td>\n",
              "      <td>2003-07-07</td>\n",
              "      <td>1173.0815</td>\n",
              "      <td>143.27</td>\n",
              "      <td>293.27</td>\n",
              "      <td>98.73</td>\n",
              "      <td>Clinical Done</td>\n",
              "      <td>...</td>\n",
              "      <td>1609.60</td>\n",
              "      <td>24.0871</td>\n",
              "      <td>X</td>\n",
              "      <td>3</td>\n",
              "      <td>0</td>\n",
              "      <td>O</td>\n",
              "      <td>+</td>\n",
              "      <td>True</td>\n",
              "      <td>False</td>\n",
              "      <td>False</td>\n",
              "    </tr>\n",
              "  </tbody>\n",
              "</table>\n",
              "<p>5 rows × 22 columns</p>\n",
              "</div>\n",
              "      <button class=\"colab-df-convert\" onclick=\"convertToInteractive('df-b62b2cae-6db1-4230-b3d2-b8b99d3201ad')\"\n",
              "              title=\"Convert this dataframe to an interactive table.\"\n",
              "              style=\"display:none;\">\n",
              "        \n",
              "  <svg xmlns=\"http://www.w3.org/2000/svg\" height=\"24px\"viewBox=\"0 0 24 24\"\n",
              "       width=\"24px\">\n",
              "    <path d=\"M0 0h24v24H0V0z\" fill=\"none\"/>\n",
              "    <path d=\"M18.56 5.44l.94 2.06.94-2.06 2.06-.94-2.06-.94-.94-2.06-.94 2.06-2.06.94zm-11 1L8.5 8.5l.94-2.06 2.06-.94-2.06-.94L8.5 2.5l-.94 2.06-2.06.94zm10 10l.94 2.06.94-2.06 2.06-.94-2.06-.94-.94-2.06-.94 2.06-2.06.94z\"/><path d=\"M17.41 7.96l-1.37-1.37c-.4-.4-.92-.59-1.43-.59-.52 0-1.04.2-1.43.59L10.3 9.45l-7.72 7.72c-.78.78-.78 2.05 0 2.83L4 21.41c.39.39.9.59 1.41.59.51 0 1.02-.2 1.41-.59l7.78-7.78 2.81-2.81c.8-.78.8-2.07 0-2.86zM5.41 20L4 18.59l7.72-7.72 1.47 1.35L5.41 20z\"/>\n",
              "  </svg>\n",
              "      </button>\n",
              "      \n",
              "  <style>\n",
              "    .colab-df-container {\n",
              "      display:flex;\n",
              "      flex-wrap:wrap;\n",
              "      gap: 12px;\n",
              "    }\n",
              "\n",
              "    .colab-df-convert {\n",
              "      background-color: #E8F0FE;\n",
              "      border: none;\n",
              "      border-radius: 50%;\n",
              "      cursor: pointer;\n",
              "      display: none;\n",
              "      fill: #1967D2;\n",
              "      height: 32px;\n",
              "      padding: 0 0 0 0;\n",
              "      width: 32px;\n",
              "    }\n",
              "\n",
              "    .colab-df-convert:hover {\n",
              "      background-color: #E2EBFA;\n",
              "      box-shadow: 0px 1px 2px rgba(60, 64, 67, 0.3), 0px 1px 3px 1px rgba(60, 64, 67, 0.15);\n",
              "      fill: #174EA6;\n",
              "    }\n",
              "\n",
              "    [theme=dark] .colab-df-convert {\n",
              "      background-color: #3B4455;\n",
              "      fill: #D2E3FC;\n",
              "    }\n",
              "\n",
              "    [theme=dark] .colab-df-convert:hover {\n",
              "      background-color: #434B5C;\n",
              "      box-shadow: 0px 1px 3px 1px rgba(0, 0, 0, 0.15);\n",
              "      filter: drop-shadow(0px 1px 2px rgba(0, 0, 0, 0.3));\n",
              "      fill: #FFFFFF;\n",
              "    }\n",
              "  </style>\n",
              "\n",
              "      <script>\n",
              "        const buttonEl =\n",
              "          document.querySelector('#df-b62b2cae-6db1-4230-b3d2-b8b99d3201ad button.colab-df-convert');\n",
              "        buttonEl.style.display =\n",
              "          google.colab.kernel.accessAllowed ? 'block' : 'none';\n",
              "\n",
              "        async function convertToInteractive(key) {\n",
              "          const element = document.querySelector('#df-b62b2cae-6db1-4230-b3d2-b8b99d3201ad');\n",
              "          const dataTable =\n",
              "            await google.colab.kernel.invokeFunction('convertToInteractive',\n",
              "                                                     [key], {});\n",
              "          if (!dataTable) return;\n",
              "\n",
              "          const docLinkHtml = 'Like what you see? Visit the ' +\n",
              "            '<a target=\"_blank\" href=https://colab.research.google.com/notebooks/data_table.ipynb>data table notebook</a>'\n",
              "            + ' to learn more about interactive tables.';\n",
              "          element.innerHTML = '';\n",
              "          dataTable['output_type'] = 'display_data';\n",
              "          await google.colab.output.renderOutput(dataTable, element);\n",
              "          const docLink = document.createElement('div');\n",
              "          docLink.innerHTML = docLinkHtml;\n",
              "          element.appendChild(docLink);\n",
              "        }\n",
              "      </script>\n",
              "    </div>\n",
              "  </div>\n",
              "  "
            ]
          },
          "metadata": {},
          "execution_count": 35
        }
      ]
    },
    {
      "cell_type": "markdown",
      "source": [
        "## `df_train`"
      ],
      "metadata": {
        "id": "59xrcvvxqz9q"
      }
    },
    {
      "cell_type": "code",
      "source": [
        "df = pd.read_csv(path + 'df_train.csv')\n",
        "df"
      ],
      "metadata": {
        "colab": {
          "base_uri": "https://localhost:8080/",
          "height": 424
        },
        "outputId": "90919145-0d11-4746-84ab-a7b15e3dfc9d",
        "id": "A_DPxSuBqz9r"
      },
      "execution_count": 42,
      "outputs": [
        {
          "output_type": "execute_result",
          "data": {
            "text/plain": [
              "     Id number             receipt name  receipt       RI     Na Mg    Al  \\\n",
              "0            1        Arthur Nascimento     9009  1.52101  13.64  D  1.10   \n",
              "1            2            Kamilly Lopes    13268  1.51761  13.89  D  1.36   \n",
              "2            3          Yasmin da Costa    21037  1.51618  13.53  C  1.54   \n",
              "3            4   Vitor Gabriel Teixeira    15457  1.51766  13.21  D  1.29   \n",
              "4            5  Maria Fernanda da Cunha     2792  1.51742  13.27  D  1.24   \n",
              "..         ...                      ...      ...      ...    ... ..   ...   \n",
              "191        210         Dr. Nathan Pinto     1886  1.51623  14.14  A  2.88   \n",
              "192        211           Natália da Paz    18052  1.51685  14.92  A  1.99   \n",
              "193        212          Dr. Breno Moura     2260  1.52065  14.36  A  2.02   \n",
              "194        213     Davi Luiz Cavalcanti     5305  1.51651  14.38  A  1.94   \n",
              "195        214    Sr. Davi Lucca Mendes     4630  1.51711  14.23  A  2.08   \n",
              "\n",
              "        Si     K    Ca    Ba   Fe  Type_of_glass       price  \n",
              "0    71.78  0.06  8.75  0.00  0.0              1  224.332845  \n",
              "1    72.73  0.48  7.83  0.00  0.0              1  225.943776  \n",
              "2    72.99  0.39  7.78  0.00  0.0              1  226.760162  \n",
              "3    72.61  0.57  8.22  0.00  0.0              1  225.736422  \n",
              "4    73.08  0.55  8.07  0.00  0.0              1  226.613268  \n",
              "..     ...   ...   ...   ...  ...            ...         ...  \n",
              "191  72.61  0.08  9.18  1.06  0.0              7  225.156488  \n",
              "192  73.06  0.00  8.40  1.59  0.0              7  227.157818  \n",
              "193  73.42  0.00  8.44  1.64  0.0              7  227.370109  \n",
              "194  73.61  0.00  8.48  1.57  0.0              7  227.414592  \n",
              "195  73.36  0.00  8.62  1.67  0.0              7  227.081084  \n",
              "\n",
              "[196 rows x 14 columns]"
            ],
            "text/html": [
              "\n",
              "  <div id=\"df-a19716ae-937d-4ea9-976a-7f9b553f468f\">\n",
              "    <div class=\"colab-df-container\">\n",
              "      <div>\n",
              "<style scoped>\n",
              "    .dataframe tbody tr th:only-of-type {\n",
              "        vertical-align: middle;\n",
              "    }\n",
              "\n",
              "    .dataframe tbody tr th {\n",
              "        vertical-align: top;\n",
              "    }\n",
              "\n",
              "    .dataframe thead th {\n",
              "        text-align: right;\n",
              "    }\n",
              "</style>\n",
              "<table border=\"1\" class=\"dataframe\">\n",
              "  <thead>\n",
              "    <tr style=\"text-align: right;\">\n",
              "      <th></th>\n",
              "      <th>Id number</th>\n",
              "      <th>receipt name</th>\n",
              "      <th>receipt</th>\n",
              "      <th>RI</th>\n",
              "      <th>Na</th>\n",
              "      <th>Mg</th>\n",
              "      <th>Al</th>\n",
              "      <th>Si</th>\n",
              "      <th>K</th>\n",
              "      <th>Ca</th>\n",
              "      <th>Ba</th>\n",
              "      <th>Fe</th>\n",
              "      <th>Type_of_glass</th>\n",
              "      <th>price</th>\n",
              "    </tr>\n",
              "  </thead>\n",
              "  <tbody>\n",
              "    <tr>\n",
              "      <th>0</th>\n",
              "      <td>1</td>\n",
              "      <td>Arthur Nascimento</td>\n",
              "      <td>9009</td>\n",
              "      <td>1.52101</td>\n",
              "      <td>13.64</td>\n",
              "      <td>D</td>\n",
              "      <td>1.10</td>\n",
              "      <td>71.78</td>\n",
              "      <td>0.06</td>\n",
              "      <td>8.75</td>\n",
              "      <td>0.00</td>\n",
              "      <td>0.0</td>\n",
              "      <td>1</td>\n",
              "      <td>224.332845</td>\n",
              "    </tr>\n",
              "    <tr>\n",
              "      <th>1</th>\n",
              "      <td>2</td>\n",
              "      <td>Kamilly Lopes</td>\n",
              "      <td>13268</td>\n",
              "      <td>1.51761</td>\n",
              "      <td>13.89</td>\n",
              "      <td>D</td>\n",
              "      <td>1.36</td>\n",
              "      <td>72.73</td>\n",
              "      <td>0.48</td>\n",
              "      <td>7.83</td>\n",
              "      <td>0.00</td>\n",
              "      <td>0.0</td>\n",
              "      <td>1</td>\n",
              "      <td>225.943776</td>\n",
              "    </tr>\n",
              "    <tr>\n",
              "      <th>2</th>\n",
              "      <td>3</td>\n",
              "      <td>Yasmin da Costa</td>\n",
              "      <td>21037</td>\n",
              "      <td>1.51618</td>\n",
              "      <td>13.53</td>\n",
              "      <td>C</td>\n",
              "      <td>1.54</td>\n",
              "      <td>72.99</td>\n",
              "      <td>0.39</td>\n",
              "      <td>7.78</td>\n",
              "      <td>0.00</td>\n",
              "      <td>0.0</td>\n",
              "      <td>1</td>\n",
              "      <td>226.760162</td>\n",
              "    </tr>\n",
              "    <tr>\n",
              "      <th>3</th>\n",
              "      <td>4</td>\n",
              "      <td>Vitor Gabriel Teixeira</td>\n",
              "      <td>15457</td>\n",
              "      <td>1.51766</td>\n",
              "      <td>13.21</td>\n",
              "      <td>D</td>\n",
              "      <td>1.29</td>\n",
              "      <td>72.61</td>\n",
              "      <td>0.57</td>\n",
              "      <td>8.22</td>\n",
              "      <td>0.00</td>\n",
              "      <td>0.0</td>\n",
              "      <td>1</td>\n",
              "      <td>225.736422</td>\n",
              "    </tr>\n",
              "    <tr>\n",
              "      <th>4</th>\n",
              "      <td>5</td>\n",
              "      <td>Maria Fernanda da Cunha</td>\n",
              "      <td>2792</td>\n",
              "      <td>1.51742</td>\n",
              "      <td>13.27</td>\n",
              "      <td>D</td>\n",
              "      <td>1.24</td>\n",
              "      <td>73.08</td>\n",
              "      <td>0.55</td>\n",
              "      <td>8.07</td>\n",
              "      <td>0.00</td>\n",
              "      <td>0.0</td>\n",
              "      <td>1</td>\n",
              "      <td>226.613268</td>\n",
              "    </tr>\n",
              "    <tr>\n",
              "      <th>...</th>\n",
              "      <td>...</td>\n",
              "      <td>...</td>\n",
              "      <td>...</td>\n",
              "      <td>...</td>\n",
              "      <td>...</td>\n",
              "      <td>...</td>\n",
              "      <td>...</td>\n",
              "      <td>...</td>\n",
              "      <td>...</td>\n",
              "      <td>...</td>\n",
              "      <td>...</td>\n",
              "      <td>...</td>\n",
              "      <td>...</td>\n",
              "      <td>...</td>\n",
              "    </tr>\n",
              "    <tr>\n",
              "      <th>191</th>\n",
              "      <td>210</td>\n",
              "      <td>Dr. Nathan Pinto</td>\n",
              "      <td>1886</td>\n",
              "      <td>1.51623</td>\n",
              "      <td>14.14</td>\n",
              "      <td>A</td>\n",
              "      <td>2.88</td>\n",
              "      <td>72.61</td>\n",
              "      <td>0.08</td>\n",
              "      <td>9.18</td>\n",
              "      <td>1.06</td>\n",
              "      <td>0.0</td>\n",
              "      <td>7</td>\n",
              "      <td>225.156488</td>\n",
              "    </tr>\n",
              "    <tr>\n",
              "      <th>192</th>\n",
              "      <td>211</td>\n",
              "      <td>Natália da Paz</td>\n",
              "      <td>18052</td>\n",
              "      <td>1.51685</td>\n",
              "      <td>14.92</td>\n",
              "      <td>A</td>\n",
              "      <td>1.99</td>\n",
              "      <td>73.06</td>\n",
              "      <td>0.00</td>\n",
              "      <td>8.40</td>\n",
              "      <td>1.59</td>\n",
              "      <td>0.0</td>\n",
              "      <td>7</td>\n",
              "      <td>227.157818</td>\n",
              "    </tr>\n",
              "    <tr>\n",
              "      <th>193</th>\n",
              "      <td>212</td>\n",
              "      <td>Dr. Breno Moura</td>\n",
              "      <td>2260</td>\n",
              "      <td>1.52065</td>\n",
              "      <td>14.36</td>\n",
              "      <td>A</td>\n",
              "      <td>2.02</td>\n",
              "      <td>73.42</td>\n",
              "      <td>0.00</td>\n",
              "      <td>8.44</td>\n",
              "      <td>1.64</td>\n",
              "      <td>0.0</td>\n",
              "      <td>7</td>\n",
              "      <td>227.370109</td>\n",
              "    </tr>\n",
              "    <tr>\n",
              "      <th>194</th>\n",
              "      <td>213</td>\n",
              "      <td>Davi Luiz Cavalcanti</td>\n",
              "      <td>5305</td>\n",
              "      <td>1.51651</td>\n",
              "      <td>14.38</td>\n",
              "      <td>A</td>\n",
              "      <td>1.94</td>\n",
              "      <td>73.61</td>\n",
              "      <td>0.00</td>\n",
              "      <td>8.48</td>\n",
              "      <td>1.57</td>\n",
              "      <td>0.0</td>\n",
              "      <td>7</td>\n",
              "      <td>227.414592</td>\n",
              "    </tr>\n",
              "    <tr>\n",
              "      <th>195</th>\n",
              "      <td>214</td>\n",
              "      <td>Sr. Davi Lucca Mendes</td>\n",
              "      <td>4630</td>\n",
              "      <td>1.51711</td>\n",
              "      <td>14.23</td>\n",
              "      <td>A</td>\n",
              "      <td>2.08</td>\n",
              "      <td>73.36</td>\n",
              "      <td>0.00</td>\n",
              "      <td>8.62</td>\n",
              "      <td>1.67</td>\n",
              "      <td>0.0</td>\n",
              "      <td>7</td>\n",
              "      <td>227.081084</td>\n",
              "    </tr>\n",
              "  </tbody>\n",
              "</table>\n",
              "<p>196 rows × 14 columns</p>\n",
              "</div>\n",
              "      <button class=\"colab-df-convert\" onclick=\"convertToInteractive('df-a19716ae-937d-4ea9-976a-7f9b553f468f')\"\n",
              "              title=\"Convert this dataframe to an interactive table.\"\n",
              "              style=\"display:none;\">\n",
              "        \n",
              "  <svg xmlns=\"http://www.w3.org/2000/svg\" height=\"24px\"viewBox=\"0 0 24 24\"\n",
              "       width=\"24px\">\n",
              "    <path d=\"M0 0h24v24H0V0z\" fill=\"none\"/>\n",
              "    <path d=\"M18.56 5.44l.94 2.06.94-2.06 2.06-.94-2.06-.94-.94-2.06-.94 2.06-2.06.94zm-11 1L8.5 8.5l.94-2.06 2.06-.94-2.06-.94L8.5 2.5l-.94 2.06-2.06.94zm10 10l.94 2.06.94-2.06 2.06-.94-2.06-.94-.94-2.06-.94 2.06-2.06.94z\"/><path d=\"M17.41 7.96l-1.37-1.37c-.4-.4-.92-.59-1.43-.59-.52 0-1.04.2-1.43.59L10.3 9.45l-7.72 7.72c-.78.78-.78 2.05 0 2.83L4 21.41c.39.39.9.59 1.41.59.51 0 1.02-.2 1.41-.59l7.78-7.78 2.81-2.81c.8-.78.8-2.07 0-2.86zM5.41 20L4 18.59l7.72-7.72 1.47 1.35L5.41 20z\"/>\n",
              "  </svg>\n",
              "      </button>\n",
              "      \n",
              "  <style>\n",
              "    .colab-df-container {\n",
              "      display:flex;\n",
              "      flex-wrap:wrap;\n",
              "      gap: 12px;\n",
              "    }\n",
              "\n",
              "    .colab-df-convert {\n",
              "      background-color: #E8F0FE;\n",
              "      border: none;\n",
              "      border-radius: 50%;\n",
              "      cursor: pointer;\n",
              "      display: none;\n",
              "      fill: #1967D2;\n",
              "      height: 32px;\n",
              "      padding: 0 0 0 0;\n",
              "      width: 32px;\n",
              "    }\n",
              "\n",
              "    .colab-df-convert:hover {\n",
              "      background-color: #E2EBFA;\n",
              "      box-shadow: 0px 1px 2px rgba(60, 64, 67, 0.3), 0px 1px 3px 1px rgba(60, 64, 67, 0.15);\n",
              "      fill: #174EA6;\n",
              "    }\n",
              "\n",
              "    [theme=dark] .colab-df-convert {\n",
              "      background-color: #3B4455;\n",
              "      fill: #D2E3FC;\n",
              "    }\n",
              "\n",
              "    [theme=dark] .colab-df-convert:hover {\n",
              "      background-color: #434B5C;\n",
              "      box-shadow: 0px 1px 3px 1px rgba(0, 0, 0, 0.15);\n",
              "      filter: drop-shadow(0px 1px 2px rgba(0, 0, 0, 0.3));\n",
              "      fill: #FFFFFF;\n",
              "    }\n",
              "  </style>\n",
              "\n",
              "      <script>\n",
              "        const buttonEl =\n",
              "          document.querySelector('#df-a19716ae-937d-4ea9-976a-7f9b553f468f button.colab-df-convert');\n",
              "        buttonEl.style.display =\n",
              "          google.colab.kernel.accessAllowed ? 'block' : 'none';\n",
              "\n",
              "        async function convertToInteractive(key) {\n",
              "          const element = document.querySelector('#df-a19716ae-937d-4ea9-976a-7f9b553f468f');\n",
              "          const dataTable =\n",
              "            await google.colab.kernel.invokeFunction('convertToInteractive',\n",
              "                                                     [key], {});\n",
              "          if (!dataTable) return;\n",
              "\n",
              "          const docLinkHtml = 'Like what you see? Visit the ' +\n",
              "            '<a target=\"_blank\" href=https://colab.research.google.com/notebooks/data_table.ipynb>data table notebook</a>'\n",
              "            + ' to learn more about interactive tables.';\n",
              "          element.innerHTML = '';\n",
              "          dataTable['output_type'] = 'display_data';\n",
              "          await google.colab.output.renderOutput(dataTable, element);\n",
              "          const docLink = document.createElement('div');\n",
              "          docLink.innerHTML = docLinkHtml;\n",
              "          element.appendChild(docLink);\n",
              "        }\n",
              "      </script>\n",
              "    </div>\n",
              "  </div>\n",
              "  "
            ]
          },
          "metadata": {},
          "execution_count": 42
        }
      ]
    },
    {
      "cell_type": "markdown",
      "source": [
        "## `df_sample_reg_<` $n$ `>.csv`, $n=1,2,3$"
      ],
      "metadata": {
        "id": "SY6QBaKwq82S"
      }
    },
    {
      "cell_type": "code",
      "source": [
        "df = pd.read_csv(path + 'df_sample_reg_1.csv')\n",
        "df.head(3)\n"
      ],
      "metadata": {
        "colab": {
          "base_uri": "https://localhost:8080/",
          "height": 143
        },
        "outputId": "d8038e5a-5414-4942-b6ea-fb4739a8a7c7",
        "id": "x22Wgs5sq82T"
      },
      "execution_count": 4,
      "outputs": [
        {
          "output_type": "execute_result",
          "data": {
            "text/plain": [
              "   Id number       receipt name  receipt       RI     Na Mg    Al     Si  \\\n",
              "0         68  Davi Lucas Barros    17432  1.52152  13.05  D  0.87  72.32   \n",
              "1        104   Isaac Cavalcanti    29747  1.52725  13.80  B  0.66  70.57   \n",
              "2        118  Ana Lívia Pereira    21054  1.51708  13.72  D  1.81  72.06   \n",
              "\n",
              "      K     Ca   Ba    Fe  Type of glass  \n",
              "0  0.19   9.85  0.0  0.17              1  \n",
              "1  0.08  11.64  0.0  0.00              2  \n",
              "2  0.64   7.88  0.0  0.00              2  "
            ],
            "text/html": [
              "\n",
              "  <div id=\"df-f4629988-8f38-43f3-984b-c440362e8112\">\n",
              "    <div class=\"colab-df-container\">\n",
              "      <div>\n",
              "<style scoped>\n",
              "    .dataframe tbody tr th:only-of-type {\n",
              "        vertical-align: middle;\n",
              "    }\n",
              "\n",
              "    .dataframe tbody tr th {\n",
              "        vertical-align: top;\n",
              "    }\n",
              "\n",
              "    .dataframe thead th {\n",
              "        text-align: right;\n",
              "    }\n",
              "</style>\n",
              "<table border=\"1\" class=\"dataframe\">\n",
              "  <thead>\n",
              "    <tr style=\"text-align: right;\">\n",
              "      <th></th>\n",
              "      <th>Id number</th>\n",
              "      <th>receipt name</th>\n",
              "      <th>receipt</th>\n",
              "      <th>RI</th>\n",
              "      <th>Na</th>\n",
              "      <th>Mg</th>\n",
              "      <th>Al</th>\n",
              "      <th>Si</th>\n",
              "      <th>K</th>\n",
              "      <th>Ca</th>\n",
              "      <th>Ba</th>\n",
              "      <th>Fe</th>\n",
              "      <th>Type of glass</th>\n",
              "    </tr>\n",
              "  </thead>\n",
              "  <tbody>\n",
              "    <tr>\n",
              "      <th>0</th>\n",
              "      <td>68</td>\n",
              "      <td>Davi Lucas Barros</td>\n",
              "      <td>17432</td>\n",
              "      <td>1.52152</td>\n",
              "      <td>13.05</td>\n",
              "      <td>D</td>\n",
              "      <td>0.87</td>\n",
              "      <td>72.32</td>\n",
              "      <td>0.19</td>\n",
              "      <td>9.85</td>\n",
              "      <td>0.0</td>\n",
              "      <td>0.17</td>\n",
              "      <td>1</td>\n",
              "    </tr>\n",
              "    <tr>\n",
              "      <th>1</th>\n",
              "      <td>104</td>\n",
              "      <td>Isaac Cavalcanti</td>\n",
              "      <td>29747</td>\n",
              "      <td>1.52725</td>\n",
              "      <td>13.80</td>\n",
              "      <td>B</td>\n",
              "      <td>0.66</td>\n",
              "      <td>70.57</td>\n",
              "      <td>0.08</td>\n",
              "      <td>11.64</td>\n",
              "      <td>0.0</td>\n",
              "      <td>0.00</td>\n",
              "      <td>2</td>\n",
              "    </tr>\n",
              "    <tr>\n",
              "      <th>2</th>\n",
              "      <td>118</td>\n",
              "      <td>Ana Lívia Pereira</td>\n",
              "      <td>21054</td>\n",
              "      <td>1.51708</td>\n",
              "      <td>13.72</td>\n",
              "      <td>D</td>\n",
              "      <td>1.81</td>\n",
              "      <td>72.06</td>\n",
              "      <td>0.64</td>\n",
              "      <td>7.88</td>\n",
              "      <td>0.0</td>\n",
              "      <td>0.00</td>\n",
              "      <td>2</td>\n",
              "    </tr>\n",
              "  </tbody>\n",
              "</table>\n",
              "</div>\n",
              "      <button class=\"colab-df-convert\" onclick=\"convertToInteractive('df-f4629988-8f38-43f3-984b-c440362e8112')\"\n",
              "              title=\"Convert this dataframe to an interactive table.\"\n",
              "              style=\"display:none;\">\n",
              "        \n",
              "  <svg xmlns=\"http://www.w3.org/2000/svg\" height=\"24px\"viewBox=\"0 0 24 24\"\n",
              "       width=\"24px\">\n",
              "    <path d=\"M0 0h24v24H0V0z\" fill=\"none\"/>\n",
              "    <path d=\"M18.56 5.44l.94 2.06.94-2.06 2.06-.94-2.06-.94-.94-2.06-.94 2.06-2.06.94zm-11 1L8.5 8.5l.94-2.06 2.06-.94-2.06-.94L8.5 2.5l-.94 2.06-2.06.94zm10 10l.94 2.06.94-2.06 2.06-.94-2.06-.94-.94-2.06-.94 2.06-2.06.94z\"/><path d=\"M17.41 7.96l-1.37-1.37c-.4-.4-.92-.59-1.43-.59-.52 0-1.04.2-1.43.59L10.3 9.45l-7.72 7.72c-.78.78-.78 2.05 0 2.83L4 21.41c.39.39.9.59 1.41.59.51 0 1.02-.2 1.41-.59l7.78-7.78 2.81-2.81c.8-.78.8-2.07 0-2.86zM5.41 20L4 18.59l7.72-7.72 1.47 1.35L5.41 20z\"/>\n",
              "  </svg>\n",
              "      </button>\n",
              "      \n",
              "  <style>\n",
              "    .colab-df-container {\n",
              "      display:flex;\n",
              "      flex-wrap:wrap;\n",
              "      gap: 12px;\n",
              "    }\n",
              "\n",
              "    .colab-df-convert {\n",
              "      background-color: #E8F0FE;\n",
              "      border: none;\n",
              "      border-radius: 50%;\n",
              "      cursor: pointer;\n",
              "      display: none;\n",
              "      fill: #1967D2;\n",
              "      height: 32px;\n",
              "      padding: 0 0 0 0;\n",
              "      width: 32px;\n",
              "    }\n",
              "\n",
              "    .colab-df-convert:hover {\n",
              "      background-color: #E2EBFA;\n",
              "      box-shadow: 0px 1px 2px rgba(60, 64, 67, 0.3), 0px 1px 3px 1px rgba(60, 64, 67, 0.15);\n",
              "      fill: #174EA6;\n",
              "    }\n",
              "\n",
              "    [theme=dark] .colab-df-convert {\n",
              "      background-color: #3B4455;\n",
              "      fill: #D2E3FC;\n",
              "    }\n",
              "\n",
              "    [theme=dark] .colab-df-convert:hover {\n",
              "      background-color: #434B5C;\n",
              "      box-shadow: 0px 1px 3px 1px rgba(0, 0, 0, 0.15);\n",
              "      filter: drop-shadow(0px 1px 2px rgba(0, 0, 0, 0.3));\n",
              "      fill: #FFFFFF;\n",
              "    }\n",
              "  </style>\n",
              "\n",
              "      <script>\n",
              "        const buttonEl =\n",
              "          document.querySelector('#df-f4629988-8f38-43f3-984b-c440362e8112 button.colab-df-convert');\n",
              "        buttonEl.style.display =\n",
              "          google.colab.kernel.accessAllowed ? 'block' : 'none';\n",
              "\n",
              "        async function convertToInteractive(key) {\n",
              "          const element = document.querySelector('#df-f4629988-8f38-43f3-984b-c440362e8112');\n",
              "          const dataTable =\n",
              "            await google.colab.kernel.invokeFunction('convertToInteractive',\n",
              "                                                     [key], {});\n",
              "          if (!dataTable) return;\n",
              "\n",
              "          const docLinkHtml = 'Like what you see? Visit the ' +\n",
              "            '<a target=\"_blank\" href=https://colab.research.google.com/notebooks/data_table.ipynb>data table notebook</a>'\n",
              "            + ' to learn more about interactive tables.';\n",
              "          element.innerHTML = '';\n",
              "          dataTable['output_type'] = 'display_data';\n",
              "          await google.colab.output.renderOutput(dataTable, element);\n",
              "          const docLink = document.createElement('div');\n",
              "          docLink.innerHTML = docLinkHtml;\n",
              "          element.appendChild(docLink);\n",
              "        }\n",
              "      </script>\n",
              "    </div>\n",
              "  </div>\n",
              "  "
            ]
          },
          "metadata": {},
          "execution_count": 4
        }
      ]
    },
    {
      "cell_type": "markdown",
      "source": [
        "## `df_sample_class_<` $n$ `>.csv`, $n=1,2,3$"
      ],
      "metadata": {
        "id": "xSHq7X6lrJIW"
      }
    },
    {
      "cell_type": "code",
      "source": [
        "df = pd.read_csv(path + 'df_sample_class_1.csv')\n",
        "df.head(3)"
      ],
      "metadata": {
        "colab": {
          "base_uri": "https://localhost:8080/",
          "height": 143
        },
        "outputId": "356540b3-7833-4a15-c083-7261f445e9f9",
        "id": "VY1BV7KArJIX"
      },
      "execution_count": 5,
      "outputs": [
        {
          "output_type": "execute_result",
          "data": {
            "text/plain": [
              "   Id number      receipt name  receipt       RI     Na Mg    Al     Si     K  \\\n",
              "0         10       Isaac Souza     4993  1.51755  13.00  D  1.36  72.99  0.57   \n",
              "1        104  Isaac Cavalcanti    29747  1.52725  13.80  B  0.66  70.57  0.08   \n",
              "2        202  Alícia Fernandes     9582  1.51653  11.95  A  1.19  75.18  2.70   \n",
              "\n",
              "      Ca   Ba    Fe  \n",
              "0   8.40  0.0  0.11  \n",
              "1  11.64  0.0  0.00  \n",
              "2   8.93  0.0  0.00  "
            ],
            "text/html": [
              "\n",
              "  <div id=\"df-fc8c3bb7-082f-41e5-b848-120371f016ae\">\n",
              "    <div class=\"colab-df-container\">\n",
              "      <div>\n",
              "<style scoped>\n",
              "    .dataframe tbody tr th:only-of-type {\n",
              "        vertical-align: middle;\n",
              "    }\n",
              "\n",
              "    .dataframe tbody tr th {\n",
              "        vertical-align: top;\n",
              "    }\n",
              "\n",
              "    .dataframe thead th {\n",
              "        text-align: right;\n",
              "    }\n",
              "</style>\n",
              "<table border=\"1\" class=\"dataframe\">\n",
              "  <thead>\n",
              "    <tr style=\"text-align: right;\">\n",
              "      <th></th>\n",
              "      <th>Id number</th>\n",
              "      <th>receipt name</th>\n",
              "      <th>receipt</th>\n",
              "      <th>RI</th>\n",
              "      <th>Na</th>\n",
              "      <th>Mg</th>\n",
              "      <th>Al</th>\n",
              "      <th>Si</th>\n",
              "      <th>K</th>\n",
              "      <th>Ca</th>\n",
              "      <th>Ba</th>\n",
              "      <th>Fe</th>\n",
              "    </tr>\n",
              "  </thead>\n",
              "  <tbody>\n",
              "    <tr>\n",
              "      <th>0</th>\n",
              "      <td>10</td>\n",
              "      <td>Isaac Souza</td>\n",
              "      <td>4993</td>\n",
              "      <td>1.51755</td>\n",
              "      <td>13.00</td>\n",
              "      <td>D</td>\n",
              "      <td>1.36</td>\n",
              "      <td>72.99</td>\n",
              "      <td>0.57</td>\n",
              "      <td>8.40</td>\n",
              "      <td>0.0</td>\n",
              "      <td>0.11</td>\n",
              "    </tr>\n",
              "    <tr>\n",
              "      <th>1</th>\n",
              "      <td>104</td>\n",
              "      <td>Isaac Cavalcanti</td>\n",
              "      <td>29747</td>\n",
              "      <td>1.52725</td>\n",
              "      <td>13.80</td>\n",
              "      <td>B</td>\n",
              "      <td>0.66</td>\n",
              "      <td>70.57</td>\n",
              "      <td>0.08</td>\n",
              "      <td>11.64</td>\n",
              "      <td>0.0</td>\n",
              "      <td>0.00</td>\n",
              "    </tr>\n",
              "    <tr>\n",
              "      <th>2</th>\n",
              "      <td>202</td>\n",
              "      <td>Alícia Fernandes</td>\n",
              "      <td>9582</td>\n",
              "      <td>1.51653</td>\n",
              "      <td>11.95</td>\n",
              "      <td>A</td>\n",
              "      <td>1.19</td>\n",
              "      <td>75.18</td>\n",
              "      <td>2.70</td>\n",
              "      <td>8.93</td>\n",
              "      <td>0.0</td>\n",
              "      <td>0.00</td>\n",
              "    </tr>\n",
              "  </tbody>\n",
              "</table>\n",
              "</div>\n",
              "      <button class=\"colab-df-convert\" onclick=\"convertToInteractive('df-fc8c3bb7-082f-41e5-b848-120371f016ae')\"\n",
              "              title=\"Convert this dataframe to an interactive table.\"\n",
              "              style=\"display:none;\">\n",
              "        \n",
              "  <svg xmlns=\"http://www.w3.org/2000/svg\" height=\"24px\"viewBox=\"0 0 24 24\"\n",
              "       width=\"24px\">\n",
              "    <path d=\"M0 0h24v24H0V0z\" fill=\"none\"/>\n",
              "    <path d=\"M18.56 5.44l.94 2.06.94-2.06 2.06-.94-2.06-.94-.94-2.06-.94 2.06-2.06.94zm-11 1L8.5 8.5l.94-2.06 2.06-.94-2.06-.94L8.5 2.5l-.94 2.06-2.06.94zm10 10l.94 2.06.94-2.06 2.06-.94-2.06-.94-.94-2.06-.94 2.06-2.06.94z\"/><path d=\"M17.41 7.96l-1.37-1.37c-.4-.4-.92-.59-1.43-.59-.52 0-1.04.2-1.43.59L10.3 9.45l-7.72 7.72c-.78.78-.78 2.05 0 2.83L4 21.41c.39.39.9.59 1.41.59.51 0 1.02-.2 1.41-.59l7.78-7.78 2.81-2.81c.8-.78.8-2.07 0-2.86zM5.41 20L4 18.59l7.72-7.72 1.47 1.35L5.41 20z\"/>\n",
              "  </svg>\n",
              "      </button>\n",
              "      \n",
              "  <style>\n",
              "    .colab-df-container {\n",
              "      display:flex;\n",
              "      flex-wrap:wrap;\n",
              "      gap: 12px;\n",
              "    }\n",
              "\n",
              "    .colab-df-convert {\n",
              "      background-color: #E8F0FE;\n",
              "      border: none;\n",
              "      border-radius: 50%;\n",
              "      cursor: pointer;\n",
              "      display: none;\n",
              "      fill: #1967D2;\n",
              "      height: 32px;\n",
              "      padding: 0 0 0 0;\n",
              "      width: 32px;\n",
              "    }\n",
              "\n",
              "    .colab-df-convert:hover {\n",
              "      background-color: #E2EBFA;\n",
              "      box-shadow: 0px 1px 2px rgba(60, 64, 67, 0.3), 0px 1px 3px 1px rgba(60, 64, 67, 0.15);\n",
              "      fill: #174EA6;\n",
              "    }\n",
              "\n",
              "    [theme=dark] .colab-df-convert {\n",
              "      background-color: #3B4455;\n",
              "      fill: #D2E3FC;\n",
              "    }\n",
              "\n",
              "    [theme=dark] .colab-df-convert:hover {\n",
              "      background-color: #434B5C;\n",
              "      box-shadow: 0px 1px 3px 1px rgba(0, 0, 0, 0.15);\n",
              "      filter: drop-shadow(0px 1px 2px rgba(0, 0, 0, 0.3));\n",
              "      fill: #FFFFFF;\n",
              "    }\n",
              "  </style>\n",
              "\n",
              "      <script>\n",
              "        const buttonEl =\n",
              "          document.querySelector('#df-fc8c3bb7-082f-41e5-b848-120371f016ae button.colab-df-convert');\n",
              "        buttonEl.style.display =\n",
              "          google.colab.kernel.accessAllowed ? 'block' : 'none';\n",
              "\n",
              "        async function convertToInteractive(key) {\n",
              "          const element = document.querySelector('#df-fc8c3bb7-082f-41e5-b848-120371f016ae');\n",
              "          const dataTable =\n",
              "            await google.colab.kernel.invokeFunction('convertToInteractive',\n",
              "                                                     [key], {});\n",
              "          if (!dataTable) return;\n",
              "\n",
              "          const docLinkHtml = 'Like what you see? Visit the ' +\n",
              "            '<a target=\"_blank\" href=https://colab.research.google.com/notebooks/data_table.ipynb>data table notebook</a>'\n",
              "            + ' to learn more about interactive tables.';\n",
              "          element.innerHTML = '';\n",
              "          dataTable['output_type'] = 'display_data';\n",
              "          await google.colab.output.renderOutput(dataTable, element);\n",
              "          const docLink = document.createElement('div');\n",
              "          docLink.innerHTML = docLinkHtml;\n",
              "          element.appendChild(docLink);\n",
              "        }\n",
              "      </script>\n",
              "    </div>\n",
              "  </div>\n",
              "  "
            ]
          },
          "metadata": {},
          "execution_count": 5
        }
      ]
    },
    {
      "cell_type": "markdown",
      "source": [
        "# **Questões**\n",
        "\n",
        "Separe cada questão por uma célula de texto empregando a identificação da questão no Moodle como título. Exemplo:"
      ],
      "metadata": {
        "id": "1YAlxQw8aeXW"
      }
    },
    {
      "cell_type": "markdown",
      "source": [
        "# Q8D."
      ],
      "metadata": {
        "id": "HgQ8C6emayoW"
      }
    },
    {
      "cell_type": "code",
      "source": [
        "# códigos para a questão Q8D"
      ],
      "metadata": {
        "id": "R_sgIIO-a2of"
      },
      "execution_count": null,
      "outputs": []
    },
    {
      "cell_type": "markdown",
      "source": [
        "# Q1B."
      ],
      "metadata": {
        "id": "0jfECJ3SbyIt"
      }
    },
    {
      "cell_type": "code",
      "source": [
        "Somente ii. Detecção de Anomalia e Regras de Associação são exemplos de Aprendizado não Supervisionado"
      ],
      "metadata": {
        "id": "b2hLcTYJb3fV"
      },
      "execution_count": null,
      "outputs": []
    },
    {
      "cell_type": "markdown",
      "source": [
        "#Q2C."
      ],
      "metadata": {
        "id": "gyYcrD-odFd0"
      }
    },
    {
      "cell_type": "code",
      "source": [
        "Para K = 5:\n",
        "\n",
        "Calculando as distâncias entre a peça de medida 3.5 e as outras peças:\n",
        "Medida\tDistância\n",
        "1        \t2.5\n",
        "2\t        1.5\n",
        "3       \t0.5\n",
        "2       \t1.5\n",
        "3       \t0.5\n",
        "4       \t0.5\n",
        "3\t        0.5\n",
        "4       \t0.5\n",
        "4.5\t      1.0\n",
        "\n",
        "Selecionando os 5 vizinhos mais próximos:\n",
        "Medida\tDistância\n",
        "3\t        0.5\n",
        "3\t        0.5\n",
        "4\t        0.5\n",
        "3\t        0.5\n",
        "4\t        0.5\n",
        "\n",
        "Determinando a classe mais frequente entre os vizinhos mais próximos, temos:\n",
        "Classe A: 1 ocorrências\n",
        "Classe B: 2 ocorrências\n",
        "Classe C: 2 ocorrências\n",
        "\n",
        "logo R = B ou C"
      ],
      "metadata": {
        "id": "8qBBbAYVdHc8"
      },
      "execution_count": null,
      "outputs": []
    },
    {
      "cell_type": "code",
      "source": [
        "para k = 6;\n",
        "\n",
        "Calculando as distâncias entre a peça de medida 3.5 e as outras peças:\n",
        "Medida\tDistância\n",
        "1        \t2.5\n",
        "2\t        1.5\n",
        "3       \t0.5\n",
        "2       \t1.5\n",
        "3       \t0.5\n",
        "4       \t0.5\n",
        "3\t        0.5\n",
        "4       \t0.5\n",
        "4.5\t      1.0\n",
        "\n",
        "Selecionando os 6 vizinhos mais próximos:\n",
        "Medida\tDistância\n",
        "3       \t0.5\n",
        "3\t        0.5\n",
        "4\t        0.5\n",
        "3\t        0.5\n",
        "4\t        0.5\n",
        "4.5\t      1.0\n",
        "\n",
        "Determinando a classe mais frequente entre os vizinhos mais próximos, temos:\n",
        "Classe A: 1 ocorrências\n",
        "Classe B: 2 ocorrências\n",
        "Classe C: 3 ocorrências\n",
        "\n",
        "logo R =  C"
      ],
      "metadata": {
        "id": "EYuYaGq1eZyb"
      },
      "execution_count": null,
      "outputs": []
    },
    {
      "cell_type": "markdown",
      "source": [
        "#Q3C."
      ],
      "metadata": {
        "id": "EnJmlGdKgXCR"
      }
    },
    {
      "cell_type": "code",
      "source": [],
      "metadata": {
        "id": "8Qf319Mehlxg"
      },
      "execution_count": null,
      "outputs": []
    },
    {
      "cell_type": "markdown",
      "source": [
        "#Q4A."
      ],
      "metadata": {
        "id": "ykR3rxSmhmGR"
      }
    },
    {
      "cell_type": "code",
      "source": [
        "O recall é calculado como a razão entre os verdadeiros positivos (TP) e a soma dos verdadeiros positivos (TP) e falsos negativos (FN). Neste caso, a matriz de confusão mostra que a classe ‘Ant’ tem 5 verdadeiros positivos (TP) e 3 falsos negativos (FN). Portanto, o recall da classe ‘Ant’ é calculado como:\n",
        "\n",
        "Recall = TP / (TP + FN) = 5 / (5 + 3) = 0.625\n",
        "\n",
        "Assim, o recall da classe ‘Ant’ é  5 / (5 + 3)"
      ],
      "metadata": {
        "id": "ld-ZGTrWhoGB"
      },
      "execution_count": null,
      "outputs": []
    },
    {
      "cell_type": "markdown",
      "source": [
        "#Q5A."
      ],
      "metadata": {
        "id": "buc09hJ1iZXX"
      }
    },
    {
      "cell_type": "code",
      "source": [
        "import numpy as np\n",
        "import pandas as pd\n",
        "import matplotlib.pyplot as plt\n",
        "%matplotlib inline\n",
        "import seaborn as sns\n",
        "\n",
        "path = 'https://github.com/Rogerio-mack/work/raw/main/P1/'\n",
        "df = pd.read_csv(path + 'df_blood_2.csv')\n",
        "\n",
        "original_rows = df.shape[0]\n",
        "df = df.dropna()\n",
        "excluded_rows = original_rows - df.shape[0]\n",
        "print(\"foram excluidas \" + str(excluded_rows) + \" linhas\")\n",
        "sum_nitro_k = df['Nitro_K'].sum()\n",
        "print(\"a soma obtida agora do atributo 'Nitro_K' após a exclusão é de:\" + str(sum_nitro_k))\n"
      ],
      "metadata": {
        "colab": {
          "base_uri": "https://localhost:8080/"
        },
        "id": "Ws01rassibji",
        "outputId": "1a5e56ef-5660-460e-cb97-695b6904defb"
      },
      "execution_count": 10,
      "outputs": [
        {
          "output_type": "stream",
          "name": "stdout",
          "text": [
            "foram excluidas 3642 linhas\n",
            "a soma obtida agora do atributo 'Nitro_K' após a exclusão é de:22166.32\n"
          ]
        }
      ]
    },
    {
      "cell_type": "markdown",
      "source": [
        "#Q6E."
      ],
      "metadata": {
        "id": "mugH1qd9jqnO"
      }
    },
    {
      "cell_type": "code",
      "source": [
        "import numpy as np\n",
        "import pandas as pd\n",
        "import matplotlib.pyplot as plt\n",
        "%matplotlib inline\n",
        "import seaborn as sns\n",
        "from sklearn.preprocessing import MinMaxScaler\n",
        "\n",
        "path = 'https://github.com/Rogerio-mack/work/raw/main/P1/'\n",
        "df = pd.read_csv(path + 'df_blood_1.csv')\n",
        "\n",
        "# Excluir valores ausentes\n",
        "df = df.dropna()\n",
        "\n",
        "# Normalizar colunas\n",
        "numerical_columns = ['Gluconise', 'H2B4', 'H356', 'HB_A56', 'Gamma_R', 'Nitro_K', 'H278', 'Positron_L', 'Factor_risk']\n",
        "scaler = MinMaxScaler()\n",
        "df[numerical_columns] = scaler.fit_transform(df[numerical_columns])\n",
        "\n",
        "# Calcular soma de valores normalizados\n",
        "sum_normalized_values = df[numerical_columns].sum().sum()\n",
        "\n",
        "print(\"Soma de valores normalizados:\", sum_normalized_values)"
      ],
      "metadata": {
        "colab": {
          "base_uri": "https://localhost:8080/"
        },
        "id": "SfIHIU_qjsFW",
        "outputId": "dad54fcf-d212-49fb-fb0c-5f53c5e8ed44"
      },
      "execution_count": 39,
      "outputs": [
        {
          "output_type": "stream",
          "name": "stdout",
          "text": [
            "Soma de valores normalizados: 18503.230848581235\n"
          ]
        }
      ]
    },
    {
      "cell_type": "markdown",
      "source": [
        "#Q7A."
      ],
      "metadata": {
        "id": "ibUymhXNl2tV"
      }
    },
    {
      "cell_type": "code",
      "source": [
        "import numpy as np\n",
        "import pandas as pd\n",
        "import matplotlib.pyplot as plt\n",
        "%matplotlib inline\n",
        "import seaborn as sns\n",
        "from scipy.stats import shapiro\n",
        "\n",
        "path = 'https://github.com/Rogerio-mack/work/raw/main/P1/'\n",
        "df = pd.read_csv(path + 'df_blood_1.csv')\n",
        "\n",
        "# Excluir valores ausentes\n",
        "df = df.dropna()\n",
        "\n",
        "# Testar normalidade dos atributos\n",
        "attributes = ['Gluconise', 'H2B4', 'H356', 'HB_A56', 'Gamma_R', 'Nitro_K', 'H278', 'Positron_L', 'Factor_risk']\n",
        "normal_attributes = []\n",
        "\n",
        "for attribute in attributes:\n",
        "    stats, p = shapiro(df[attribute])\n",
        "    if p > 0.05:\n",
        "        normal_attributes.append(attribute)\n",
        "\n",
        "print(f'Atributos com distribuição normal: {normal_attributes}')\n"
      ],
      "metadata": {
        "colab": {
          "base_uri": "https://localhost:8080/"
        },
        "id": "YRTMIBLKl4-l",
        "outputId": "b9e8c89a-a829-4ae1-c3b5-b8388d289885"
      },
      "execution_count": 38,
      "outputs": [
        {
          "output_type": "stream",
          "name": "stdout",
          "text": [
            "Atributos com distribuição normal: ['Gluconise', 'H2B4', 'H356']\n"
          ]
        },
        {
          "output_type": "stream",
          "name": "stderr",
          "text": [
            "/usr/local/lib/python3.10/dist-packages/scipy/stats/_morestats.py:1816: UserWarning: p-value may not be accurate for N > 5000.\n",
            "  warnings.warn(\"p-value may not be accurate for N > 5000.\")\n"
          ]
        }
      ]
    },
    {
      "cell_type": "markdown",
      "source": [
        "#Q8B"
      ],
      "metadata": {
        "id": "c7P6OjsbpHpB"
      }
    },
    {
      "cell_type": "code",
      "source": [
        "import numpy as np\n",
        "import pandas as pd\n",
        "import statsmodels.api as sm\n",
        "\n",
        "path = 'https://github.com/Rogerio-mack/work/raw/main/P1/'\n",
        "df = pd.read_csv(path + 'df_train.csv')\n",
        "\n",
        "# Excluir valores ausentes\n",
        "df = df.dropna()\n",
        "\n",
        "# Selecionar variáveis preditoras e variável dependente\n",
        "X = df[['RI', 'Na', 'Al', 'Si', 'K', 'Ca', 'Ba', 'Fe']]\n",
        "y = df['price']\n",
        "\n",
        "# Adicionar constante ao modelo\n",
        "X = sm.add_constant(X)\n",
        "\n",
        "# Ajustar modelo de regressão linear\n",
        "model = sm.OLS(y, X).fit()\n",
        "\n",
        "# Imprimir resultados\n",
        "print(model.summary())\n"
      ],
      "metadata": {
        "colab": {
          "base_uri": "https://localhost:8080/"
        },
        "id": "xJu9LgjdpW4a",
        "outputId": "15ad6b95-1ab6-4dbf-a409-4537b63005d6"
      },
      "execution_count": 45,
      "outputs": [
        {
          "output_type": "stream",
          "name": "stdout",
          "text": [
            "                            OLS Regression Results                            \n",
            "==============================================================================\n",
            "Dep. Variable:                  price   R-squared:                       0.955\n",
            "Model:                            OLS   Adj. R-squared:                  0.953\n",
            "Method:                 Least Squares   F-statistic:                     483.9\n",
            "Date:                Tue, 20 Jun 2023   Prob (F-statistic):          2.68e-118\n",
            "Time:                        11:57:57   Log-Likelihood:                -19.376\n",
            "No. Observations:                 191   AIC:                             56.75\n",
            "Df Residuals:                     182   BIC:                             86.02\n",
            "Df Model:                           8                                         \n",
            "Covariance Type:            nonrobust                                         \n",
            "==============================================================================\n",
            "                 coef    std err          t      P>|t|      [0.025      0.975]\n",
            "------------------------------------------------------------------------------\n",
            "const         57.5186     33.683      1.708      0.089      -8.941     123.979\n",
            "RI            27.6288     20.448      1.351      0.178     -12.717      67.975\n",
            "Na             0.3815      0.044      8.654      0.000       0.294       0.468\n",
            "Al             0.0421      0.065      0.649      0.517      -0.086       0.170\n",
            "Si             1.7188      0.052     33.162      0.000       1.617       1.821\n",
            "K              0.0322      0.057      0.564      0.574      -0.080       0.145\n",
            "Ca            -0.4415      0.032    -13.821      0.000      -0.505      -0.378\n",
            "Ba            -0.0699      0.063     -1.113      0.267      -0.194       0.054\n",
            "Fe            -0.0308      0.207     -0.149      0.882      -0.440       0.378\n",
            "==============================================================================\n",
            "Omnibus:                       20.093   Durbin-Watson:                   1.991\n",
            "Prob(Omnibus):                  0.000   Jarque-Bera (JB):                6.554\n",
            "Skew:                           0.080   Prob(JB):                       0.0377\n",
            "Kurtosis:                       2.107   Cond. No.                     1.48e+05\n",
            "==============================================================================\n",
            "\n",
            "Notes:\n",
            "[1] Standard Errors assume that the covariance matrix of the errors is correctly specified.\n",
            "[2] The condition number is large, 1.48e+05. This might indicate that there are\n",
            "strong multicollinearity or other numerical problems.\n"
          ]
        }
      ]
    },
    {
      "cell_type": "markdown",
      "source": [
        "#Q9B."
      ],
      "metadata": {
        "id": "7BauZC4drfIY"
      }
    },
    {
      "cell_type": "code",
      "source": [
        "import numpy as np\n",
        "import pandas as pd\n",
        "import statsmodels.api as sm\n",
        "\n",
        "path = 'https://github.com/Rogerio-mack/work/raw/main/P1/'\n",
        "df = pd.read_csv(path + 'df_train.csv')\n",
        "\n",
        "# Excluir valores ausentes\n",
        "df = df.dropna()\n",
        "\n",
        "# Selecionar variáveis preditoras e variável dependente\n",
        "X = df[['RI', 'Na', 'Al', 'Si', 'K', 'Ca', 'Ba', 'Fe']]\n",
        "y = df['price']\n",
        "\n",
        "# Adicionar constante ao modelo\n",
        "X = sm.add_constant(X)\n",
        "\n",
        "# Ajustar modelo de regressão linear\n",
        "model = sm.OLS(y, X).fit()\n",
        "\n",
        "# Identificar coeficientes significativos\n",
        "significant_vars = list(model.pvalues[model.pvalues < 0.05].index)\n",
        "\n",
        "# Selecionar somente variáveis preditoras significativas\n",
        "X_new = X[significant_vars]\n",
        "\n",
        "# Ajustar novo modelo de regressão linear\n",
        "model_new = sm.OLS(y, X_new).fit()\n",
        "\n",
        "# Imprimir R-quadrado do novo modelo\n",
        "print('R-quadrado:', model_new.rsquared)\n",
        "\n",
        "# Carregar novo conjunto de dados\n",
        "df_sample_reg_2 = pd.read_csv(path + 'df_sample_reg_2.csv')\n",
        "\n",
        "# Adicionar constante ao novo conjunto de dados\n",
        "df_sample_reg_2 = sm.add_constant(df_sample_reg_2)\n",
        "\n",
        "# Selecionar somente variáveis preditoras significativas no novo conjunto de dados\n",
        "X_sample = df_sample_reg_2[significant_vars]\n",
        "\n",
        "# Estimar preços para o novo conjunto de dados\n",
        "y_pred = model_new.predict(X_sample)\n",
        "\n",
        "# Imprimir preços estimados\n",
        "print('Preços estimados:', y_pred)\n"
      ],
      "metadata": {
        "colab": {
          "base_uri": "https://localhost:8080/"
        },
        "id": "wiI-hab7rgbQ",
        "outputId": "0295fca6-b7e9-4db5-d55f-336a5c1bf02f"
      },
      "execution_count": 49,
      "outputs": [
        {
          "output_type": "stream",
          "name": "stdout",
          "text": [
            "R-quadrado: 0.9999851836619609\n",
            "Preços estimados: 0    224.970578\n",
            "1    219.094582\n",
            "2    229.005263\n",
            "dtype: float64\n"
          ]
        }
      ]
    },
    {
      "cell_type": "markdown",
      "source": [
        "#Q10A"
      ],
      "metadata": {
        "id": "fsTt9nu4sx1O"
      }
    },
    {
      "cell_type": "code",
      "source": [
        "import numpy as np\n",
        "import pandas as pd\n",
        "from sklearn.preprocessing import MinMaxScaler\n",
        "\n",
        "path = 'https://github.com/Rogerio-mack/work/raw/main/P1/'\n",
        "df = pd.read_csv(path + 'df_train.csv')\n",
        "\n",
        "# a. Excluir valores ausentes\n",
        "df = df.dropna()\n",
        "\n",
        "# b. Excluir valores de 'price'\n",
        "df = df.drop('price', axis=1)\n",
        "\n",
        "# c. Reclassificar os tipos de vidro para reciclagem em 3 categorias\n",
        "df['Type_of_glass'] = df['Type_of_glass'].replace(['headlamps'], 'vehicle')\n",
        "df['Type_of_glass'] = df['Type_of_glass'].replace(['building_windows_float_processed', 'building_windows_non_float_processed', 'containers'], 'construction')\n",
        "df['Type_of_glass'] = df['Type_of_glass'].replace(['tableware', 'vehicle'], 'other')\n",
        "\n",
        "# d. Fazer o hot encode dos atributos categóricos\n",
        "df = pd.get_dummies(df, columns=['Type_of_glass'], drop_first=True)\n",
        "\n",
        "# e. Excluir os demais atributos não preditores\n",
        "X = df.drop(df.columns[df.columns.str.startswith('Type_of_glass')], axis=1)\n",
        "\n",
        "# Excluir colunas com valores de string\n",
        "X = X.select_dtypes(exclude=['object'])\n",
        "\n",
        "# f. Normalizar os dados\n",
        "scaler = MinMaxScaler()\n",
        "X_normalized = scaler.fit_transform(X)\n",
        "\n",
        "# Calcular a soma de todos os valores obtidos\n",
        "sum_values = np.sum(X_normalized)\n",
        "\n",
        "print('Soma de todos os valores obtidos:', sum_values)\n"
      ],
      "metadata": {
        "colab": {
          "base_uri": "https://localhost:8080/"
        },
        "id": "6fg3P8P2szP3",
        "outputId": "35ac4302-0af9-4d2e-b69b-8e146b50d967"
      },
      "execution_count": 55,
      "outputs": [
        {
          "output_type": "stream",
          "name": "stdout",
          "text": [
            "Soma de todos os valores obtidos: 654.6241738654471\n"
          ]
        }
      ]
    },
    {
      "cell_type": "markdown",
      "source": [
        "#Q11F."
      ],
      "metadata": {
        "id": "Uxx1pN7KvDsH"
      }
    },
    {
      "cell_type": "code",
      "source": [
        "from sklearn.model_selection import train_test_split\n",
        "from sklearn.neighbors import KNeighborsClassifier\n",
        "from sklearn.metrics import confusion_matrix\n",
        "\n",
        "# Dividir os dados em conjunto de treinamento e teste\n",
        "X_train, X_test, y_train, y_test = train_test_split(X_normalized, df['Type_of_glass'], test_size=0.3, stratify=df['Type_of_glass'], random_state=1)\n",
        "\n",
        "# Criar e treinar o modelo de k-NN com k=3\n",
        "knn = KNeighborsClassifier(n_neighbors=3)\n",
        "knn.fit(X_train, y_train)\n",
        "\n",
        "# Realizar previsões sobre o conjunto de teste\n",
        "y_pred = knn.predict(X_test)\n",
        "\n",
        "# Calcular a matriz de confusão\n",
        "cm = confusion_matrix(y_test, y_pred)\n",
        "\n",
        "# Obter o número de falsos positivos para a classe 'V'\n",
        "falsos_positivos_V = cm[0, 1]\n",
        "\n",
        "print(\"Número de FALSOS POSITIVOS para a classe 'V':\", falsos_positivos_V)\n"
      ],
      "metadata": {
        "colab": {
          "base_uri": "https://localhost:8080/",
          "height": 502
        },
        "id": "yZM2fNKjvF_U",
        "outputId": "31f8a13f-8161-471d-992f-082013d214e0"
      },
      "execution_count": 60,
      "outputs": [
        {
          "output_type": "error",
          "ename": "KeyError",
          "evalue": "ignored",
          "traceback": [
            "\u001b[0;31m---------------------------------------------------------------------------\u001b[0m",
            "\u001b[0;31mKeyError\u001b[0m                                  Traceback (most recent call last)",
            "\u001b[0;32m/usr/local/lib/python3.10/dist-packages/pandas/core/indexes/base.py\u001b[0m in \u001b[0;36mget_loc\u001b[0;34m(self, key, method, tolerance)\u001b[0m\n\u001b[1;32m   3801\u001b[0m             \u001b[0;32mtry\u001b[0m\u001b[0;34m:\u001b[0m\u001b[0;34m\u001b[0m\u001b[0;34m\u001b[0m\u001b[0m\n\u001b[0;32m-> 3802\u001b[0;31m                 \u001b[0;32mreturn\u001b[0m \u001b[0mself\u001b[0m\u001b[0;34m.\u001b[0m\u001b[0m_engine\u001b[0m\u001b[0;34m.\u001b[0m\u001b[0mget_loc\u001b[0m\u001b[0;34m(\u001b[0m\u001b[0mcasted_key\u001b[0m\u001b[0;34m)\u001b[0m\u001b[0;34m\u001b[0m\u001b[0;34m\u001b[0m\u001b[0m\n\u001b[0m\u001b[1;32m   3803\u001b[0m             \u001b[0;32mexcept\u001b[0m \u001b[0mKeyError\u001b[0m \u001b[0;32mas\u001b[0m \u001b[0merr\u001b[0m\u001b[0;34m:\u001b[0m\u001b[0;34m\u001b[0m\u001b[0;34m\u001b[0m\u001b[0m\n",
            "\u001b[0;32m/usr/local/lib/python3.10/dist-packages/pandas/_libs/index.pyx\u001b[0m in \u001b[0;36mpandas._libs.index.IndexEngine.get_loc\u001b[0;34m()\u001b[0m\n",
            "\u001b[0;32m/usr/local/lib/python3.10/dist-packages/pandas/_libs/index.pyx\u001b[0m in \u001b[0;36mpandas._libs.index.IndexEngine.get_loc\u001b[0;34m()\u001b[0m\n",
            "\u001b[0;32mpandas/_libs/hashtable_class_helper.pxi\u001b[0m in \u001b[0;36mpandas._libs.hashtable.PyObjectHashTable.get_item\u001b[0;34m()\u001b[0m\n",
            "\u001b[0;32mpandas/_libs/hashtable_class_helper.pxi\u001b[0m in \u001b[0;36mpandas._libs.hashtable.PyObjectHashTable.get_item\u001b[0;34m()\u001b[0m\n",
            "\u001b[0;31mKeyError\u001b[0m: 'Type_of_glass'",
            "\nThe above exception was the direct cause of the following exception:\n",
            "\u001b[0;31mKeyError\u001b[0m                                  Traceback (most recent call last)",
            "\u001b[0;32m<ipython-input-60-acc72d8135b6>\u001b[0m in \u001b[0;36m<cell line: 6>\u001b[0;34m()\u001b[0m\n\u001b[1;32m      4\u001b[0m \u001b[0;34m\u001b[0m\u001b[0m\n\u001b[1;32m      5\u001b[0m \u001b[0;31m# Dividir os dados em conjunto de treinamento e teste\u001b[0m\u001b[0;34m\u001b[0m\u001b[0;34m\u001b[0m\u001b[0m\n\u001b[0;32m----> 6\u001b[0;31m \u001b[0mX_train\u001b[0m\u001b[0;34m,\u001b[0m \u001b[0mX_test\u001b[0m\u001b[0;34m,\u001b[0m \u001b[0my_train\u001b[0m\u001b[0;34m,\u001b[0m \u001b[0my_test\u001b[0m \u001b[0;34m=\u001b[0m \u001b[0mtrain_test_split\u001b[0m\u001b[0;34m(\u001b[0m\u001b[0mX_normalized\u001b[0m\u001b[0;34m,\u001b[0m \u001b[0mdf\u001b[0m\u001b[0;34m[\u001b[0m\u001b[0;34m'Type_of_glass'\u001b[0m\u001b[0;34m]\u001b[0m\u001b[0;34m,\u001b[0m \u001b[0mtest_size\u001b[0m\u001b[0;34m=\u001b[0m\u001b[0;36m0.3\u001b[0m\u001b[0;34m,\u001b[0m \u001b[0mstratify\u001b[0m\u001b[0;34m=\u001b[0m\u001b[0mdf\u001b[0m\u001b[0;34m[\u001b[0m\u001b[0;34m'Type_of_glass'\u001b[0m\u001b[0;34m]\u001b[0m\u001b[0;34m,\u001b[0m \u001b[0mrandom_state\u001b[0m\u001b[0;34m=\u001b[0m\u001b[0;36m1\u001b[0m\u001b[0;34m)\u001b[0m\u001b[0;34m\u001b[0m\u001b[0;34m\u001b[0m\u001b[0m\n\u001b[0m\u001b[1;32m      7\u001b[0m \u001b[0;34m\u001b[0m\u001b[0m\n\u001b[1;32m      8\u001b[0m \u001b[0;31m# Criar e treinar o modelo de k-NN com k=3\u001b[0m\u001b[0;34m\u001b[0m\u001b[0;34m\u001b[0m\u001b[0m\n",
            "\u001b[0;32m/usr/local/lib/python3.10/dist-packages/pandas/core/frame.py\u001b[0m in \u001b[0;36m__getitem__\u001b[0;34m(self, key)\u001b[0m\n\u001b[1;32m   3805\u001b[0m             \u001b[0;32mif\u001b[0m \u001b[0mself\u001b[0m\u001b[0;34m.\u001b[0m\u001b[0mcolumns\u001b[0m\u001b[0;34m.\u001b[0m\u001b[0mnlevels\u001b[0m \u001b[0;34m>\u001b[0m \u001b[0;36m1\u001b[0m\u001b[0;34m:\u001b[0m\u001b[0;34m\u001b[0m\u001b[0;34m\u001b[0m\u001b[0m\n\u001b[1;32m   3806\u001b[0m                 \u001b[0;32mreturn\u001b[0m \u001b[0mself\u001b[0m\u001b[0;34m.\u001b[0m\u001b[0m_getitem_multilevel\u001b[0m\u001b[0;34m(\u001b[0m\u001b[0mkey\u001b[0m\u001b[0;34m)\u001b[0m\u001b[0;34m\u001b[0m\u001b[0;34m\u001b[0m\u001b[0m\n\u001b[0;32m-> 3807\u001b[0;31m             \u001b[0mindexer\u001b[0m \u001b[0;34m=\u001b[0m \u001b[0mself\u001b[0m\u001b[0;34m.\u001b[0m\u001b[0mcolumns\u001b[0m\u001b[0;34m.\u001b[0m\u001b[0mget_loc\u001b[0m\u001b[0;34m(\u001b[0m\u001b[0mkey\u001b[0m\u001b[0;34m)\u001b[0m\u001b[0;34m\u001b[0m\u001b[0;34m\u001b[0m\u001b[0m\n\u001b[0m\u001b[1;32m   3808\u001b[0m             \u001b[0;32mif\u001b[0m \u001b[0mis_integer\u001b[0m\u001b[0;34m(\u001b[0m\u001b[0mindexer\u001b[0m\u001b[0;34m)\u001b[0m\u001b[0;34m:\u001b[0m\u001b[0;34m\u001b[0m\u001b[0;34m\u001b[0m\u001b[0m\n\u001b[1;32m   3809\u001b[0m                 \u001b[0mindexer\u001b[0m \u001b[0;34m=\u001b[0m \u001b[0;34m[\u001b[0m\u001b[0mindexer\u001b[0m\u001b[0;34m]\u001b[0m\u001b[0;34m\u001b[0m\u001b[0;34m\u001b[0m\u001b[0m\n",
            "\u001b[0;32m/usr/local/lib/python3.10/dist-packages/pandas/core/indexes/base.py\u001b[0m in \u001b[0;36mget_loc\u001b[0;34m(self, key, method, tolerance)\u001b[0m\n\u001b[1;32m   3802\u001b[0m                 \u001b[0;32mreturn\u001b[0m \u001b[0mself\u001b[0m\u001b[0;34m.\u001b[0m\u001b[0m_engine\u001b[0m\u001b[0;34m.\u001b[0m\u001b[0mget_loc\u001b[0m\u001b[0;34m(\u001b[0m\u001b[0mcasted_key\u001b[0m\u001b[0;34m)\u001b[0m\u001b[0;34m\u001b[0m\u001b[0;34m\u001b[0m\u001b[0m\n\u001b[1;32m   3803\u001b[0m             \u001b[0;32mexcept\u001b[0m \u001b[0mKeyError\u001b[0m \u001b[0;32mas\u001b[0m \u001b[0merr\u001b[0m\u001b[0;34m:\u001b[0m\u001b[0;34m\u001b[0m\u001b[0;34m\u001b[0m\u001b[0m\n\u001b[0;32m-> 3804\u001b[0;31m                 \u001b[0;32mraise\u001b[0m \u001b[0mKeyError\u001b[0m\u001b[0;34m(\u001b[0m\u001b[0mkey\u001b[0m\u001b[0;34m)\u001b[0m \u001b[0;32mfrom\u001b[0m \u001b[0merr\u001b[0m\u001b[0;34m\u001b[0m\u001b[0;34m\u001b[0m\u001b[0m\n\u001b[0m\u001b[1;32m   3805\u001b[0m             \u001b[0;32mexcept\u001b[0m \u001b[0mTypeError\u001b[0m\u001b[0;34m:\u001b[0m\u001b[0;34m\u001b[0m\u001b[0;34m\u001b[0m\u001b[0m\n\u001b[1;32m   3806\u001b[0m                 \u001b[0;31m# If we have a listlike key, _check_indexing_error will raise\u001b[0m\u001b[0;34m\u001b[0m\u001b[0;34m\u001b[0m\u001b[0m\n",
            "\u001b[0;31mKeyError\u001b[0m: 'Type_of_glass'"
          ]
        }
      ]
    },
    {
      "cell_type": "markdown",
      "source": [
        "Q14"
      ],
      "metadata": {
        "id": "XBD8Bz5uukAV"
      }
    },
    {
      "cell_type": "code",
      "source": [
        "import pandas as pd\n",
        "import matplotlib.pyplot as plt\n",
        "import seaborn as sns\n",
        "\n",
        "path = 'https://github.com/Rogerio-mack/work/raw/main/P1/'\n",
        "df = pd.read_csv(path + 'df_blood_1.csv')\n",
        "\n",
        "# Excluir valores ausentes\n",
        "df = df.dropna()\n",
        "\n",
        "# Selecionar colunas para plotar\n",
        "columns = ['Gluconise', 'H2B4', 'H356', 'HB_A56', 'Gamma_R', 'Nitro_K', 'H278', 'Positron_L', 'Factor_risk']\n",
        "\n",
        "# Criar figura e eixos\n",
        "fig, axes = plt.subplots(3, 3, figsize=(12, 7))\n",
        "\n",
        "# Plotar gráficos de distribuição para cada coluna\n",
        "for i, column in enumerate(columns):\n",
        "    row = i // 3\n",
        "    col = i % 3\n",
        "    sns.histplot(data=df, x=column, ax=axes[row, col])\n",
        "\n",
        "# Ajustar layout da figura\n",
        "plt.tight_layout()\n",
        "\n",
        "# Salvar figura\n",
        "plt.savefig('blood_distributions.png')\n"
      ],
      "metadata": {
        "colab": {
          "base_uri": "https://localhost:8080/",
          "height": 707
        },
        "id": "JTb1rSNduluM",
        "outputId": "579ecd86-a76b-49d4-9100-a278da4b0002"
      },
      "execution_count": 61,
      "outputs": [
        {
          "output_type": "display_data",
          "data": {
            "text/plain": [
              "<Figure size 1200x700 with 9 Axes>"
            ],
            "image/png": "[encoded data removed]"
          },
          "metadata": {}
        }
      ]
    }
  ]
}